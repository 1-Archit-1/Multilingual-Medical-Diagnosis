{
 "cells": [
  {
   "cell_type": "code",
   "execution_count": 1,
   "metadata": {},
   "outputs": [
    {
     "name": "stdout",
     "output_type": "stream",
     "text": [
      "true\n",
      "~/scratch/hf-cache\n"
     ]
    }
   ],
   "source": [
    "SHOULD_TRAIN = False\n",
    "#SHOULD_TRAIN = True\n",
    "\n",
    "import os\n",
    "import time\n",
    "import sys\n",
    "from collections import Counter\n",
    "import numpy as np\n",
    "import json\n",
    "import re\n",
    "\n",
    "# disable Weights and Biases\n",
    "os.environ['WANDB_DISABLED']=\"true\"\n",
    "os.environ[\"HF_HOME\"] = \"~/scratch/hf-cache\"\n",
    "token=\"\"\n",
    "print(os.environ['WANDB_DISABLED'])  # Should output \"true\"\n",
    "print(os.environ['HF_HOME'])  # Should output \"~/scratch/hf-cache\"\n",
    "\n",
    "output_file = open('logger_tests.log', 'w')\n",
    "sys.stdout = output_file\n",
    "sys.stderr = output_file\n",
    "\n",
    "LANG_TOKEN_MAPPING = {\n",
    "    'hi': '',\n",
    "    'en': ''\n",
    "}\n",
    "max_seq_len = 25\n",
    "last_print_time = time.time()\n",
    "model_path = \"./models/\""
   ]
  },
  {
   "cell_type": "code",
   "execution_count": 2,
   "metadata": {},
   "outputs": [],
   "source": [
    "# Import necessary modules and functions from translate_codebase.py\n",
    "\n",
    "from translate_codebase import (\n",
    "    # Environment variables and settings\n",
    "    # Generic Helper functions\n",
    "    clock_begin,\n",
    "    clock_end,\n",
    "    read_token_and_login,\n",
    "    print_gpu_utilization,\n",
    "    clear_cuda_cache,\n",
    "    # Metrics Functions\n",
    "    evaluate_translations_bertscore,\n",
    "    evaluate_translations_rouge,\n",
    "    evaluate_translations_bleu,\n",
    "    evaluate_translations_meteor,\n",
    "    # Common Data Preprocessing Functions\n",
    "    filter_sentences,\n",
    "    get_reduced_dataset,\n",
    "    prepare_test_data,\n",
    "    perform_translation_testing,\n",
    "    # MBART related functions\n",
    "    get_pretrained_mbart_large_50_many_to_many_mmt,\n",
    "    preprocess_function_mbart,\n",
    "    prepare_model_for_training_mbart,\n",
    "    fine_tune_and_save_mbart,\n",
    "    load_fine_tuned_model_mbart,\n",
    "    translate_text_mbart,\n",
    "    # MT5 related functions\n",
    "    get_pretrained_mt5_small,\n",
    "    config_mt5_small,\n",
    "    encode_input_str_mt5_small,\n",
    "    encode_target_str_mt5_small,\n",
    "    process_translation_list_mt5_small,\n",
    "    format_translation_data_mt5_small,\n",
    "    transform_batch_mt5_small,\n",
    "    fine_tune_and_save_model_mt5_small,\n",
    "    eval_model_mt5_small,\n",
    "    save_fine_tuned_model_mt5_small,\n",
    "    load_fine_tuned_model_mt5_small,\n",
    "    translate_text_mt5_small\n",
    ")\n"
   ]
  },
  {
   "cell_type": "code",
   "execution_count": 3,
   "metadata": {},
   "outputs": [],
   "source": [
    "def translate_eng_hin_custom(input_text, model_eng_hin, tokenizer_eng_hin, reference_text):\n",
    "    print(f\"Original: {input_text}\")\n",
    "    translated_text = translate_text_mbart(model_eng_hin, tokenizer_eng_hin, input_text, src_lang='en_XX', tgt_lang='hi_IN')\n",
    "    print(f\"Translated: {translated_text}\")\n",
    "    print(f\"Reference: {reference_text}\")\n",
    "\n",
    "\n",
    "def translate_hin_eng_custom(input_text, model_hin_eng, tokenizer_hin_eng, reference_text):\n",
    "    print(f\"Original: {input_text}\")\n",
    "    translated_text = translate_text_mbart(model_hin_eng, tokenizer_hin_eng, input_text, src_lang='hi_IN', tgt_lang='en_XX')\n",
    "    print(f\"Translated: {translated_text}\")\n",
    "    print(f\"Reference: {reference_text}\")"
   ]
  },
  {
   "cell_type": "code",
   "execution_count": 4,
   "metadata": {},
   "outputs": [],
   "source": [
    "model_eng_hin, tokenizer_eng_hin = load_fine_tuned_model_mbart(model_path+\"./mbart_fine_tuned_eng_hin\")\n",
    "model_hin_eng, tokenizer_hin_eng = load_fine_tuned_model_mbart(model_path+\"./mbart_fine_tuned_hin_eng\")\n",
    "\n"
   ]
  },
  {
   "cell_type": "code",
   "execution_count": 14,
   "metadata": {},
   "outputs": [],
   "source": [
    "#eng_text = \"Proper Nouns are difficult to translate : Sathvik Karatattu Padmanabha\"\n",
    "#hin_text = \"व्यक्तिवाचक संज्ञाओं का अनुवाद करना कठिन है: साथ्विक करतत्तु पद्मनाभ\"\n",
    "#eng_text = \"The diagnosis of hypoalbuminemia is related to nephrotic syndrome\"\n",
    "#hin_text = \"हाइपोएल्बुमिनेमिया का निदान नेफ्रोटिक सिंड्रोम से संबंधित है।\"\n",
    "#eng_text = \"The sunlight was warm and pleasant\"\n",
    "#hin_text = \"धूप गरम और सुखद थी।\"\n",
    "eng_text = \"He spoke his mind to me.\"\n",
    "hin_text = \"उसने मुझसे मन की बात कही।\""
   ]
  },
  {
   "cell_type": "code",
   "execution_count": 15,
   "metadata": {},
   "outputs": [],
   "source": [
    "print(\"\\nEng -> Hindi Translation\\n\")\n",
    "translate_eng_hin_custom(eng_text, model_eng_hin, tokenizer_eng_hin, hin_text)\n"
   ]
  },
  {
   "cell_type": "code",
   "execution_count": 16,
   "metadata": {},
   "outputs": [],
   "source": [
    "print(\"\\nHindi -> Eng Translation\\n\")\n",
    "translate_hin_eng_custom(hin_text, model_hin_eng, tokenizer_hin_eng, eng_text) "
   ]
  },
  {
   "cell_type": "code",
   "execution_count": null,
   "metadata": {},
   "outputs": [],
   "source": []
  }
 ],
 "metadata": {
  "kernelspec": {
   "display_name": "Python 3",
   "language": "python",
   "name": "python3"
  },
  "language_info": {
   "codemirror_mode": {
    "name": "ipython",
    "version": 3
   },
   "file_extension": ".py",
   "mimetype": "text/x-python",
   "name": "python",
   "nbconvert_exporter": "python",
   "pygments_lexer": "ipython3",
   "version": "3.10.15"
  }
 },
 "nbformat": 4,
 "nbformat_minor": 2
}
