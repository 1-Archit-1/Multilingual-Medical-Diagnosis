{
 "cells": [
  {
   "cell_type": "code",
   "execution_count": 1,
   "id": "113ad375-bac9-4d15-8a47-57a1d1880828",
   "metadata": {
    "tags": []
   },
   "outputs": [],
   "source": [
    "from unsloth import FastLanguageModel\n",
    "from transformers import AutoModelForSequenceClassification"
   ]
  },
  {
   "cell_type": "code",
   "execution_count": 2,
   "id": "a82b4b01-8d10-4812-8176-260d56fdb4d6",
   "metadata": {
    "tags": []
   },
   "outputs": [],
   "source": [
    "model, tokenizer = FastLanguageModel.from_pretrained(\n",
    "        model_name = 'mistral_lora_model',\n",
    "        max_seq_length = 1024,\n",
    "        dtype = None,\n",
    "        load_in_4bit = True,\n",
    "        local_files_only = True,\n",
    "    )"
   ]
  },
  {
   "cell_type": "code",
   "execution_count": null,
   "id": "87a09581-11bd-4ee1-aaad-a4c30243bff8",
   "metadata": {
    "tags": []
   },
   "outputs": [],
   "source": [
    "# Push the model to your Hugging Face repository\n",
    "token = '' #HF token\n",
    "model.push_to_hub(\"\",tokenizer, save_method = \"lora\", token = token) "
   ]
  },
  {
   "cell_type": "code",
   "execution_count": null,
   "id": "ab6ae4db-486a-4e2f-b1e9-ccf7ad7b43a6",
   "metadata": {
    "tags": []
   },
   "outputs": [],
   "source": [
    "alpaca_prompt = \"\"\"Below is an instruction that describes a task, paired with an input that provides further context. Write a response that appropriately completes the request.\n",
    "\n",
    "### Instruction:\n",
    "{}\n",
    "\n",
    "### Input:\n",
    "{}\n",
    "\n",
    "### Response:\n",
    "{}\"\"\"\n",
    "def extract_response(text):\n",
    "    # Split the input by the \"Response:\" keyword\n",
    "    response_key = \"### Response:\"\n",
    "    if response_key in text:\n",
    "        response = text.split(response_key, 1)[-1].strip()\n",
    "        return response[:-10]\n",
    "    else:\n",
    "        return \"No response found.\"\n",
    "\n",
    "def generate_text(model,tokenizer, text, max_length=256):\n",
    "    \"\"\"Function to generate text using the model\"\"\"\n",
    "    FastLanguageModel.for_inference(model)\n",
    "    # Generate predictions\n",
    "    instruction = \"\"\"Perform Diagnosis\"\"\"\n",
    "    \n",
    "    inputs = tokenizer(\n",
    "    [\n",
    "        alpaca_prompt.format(\n",
    "            instruction, # instruction\n",
    "            text, # input\n",
    "            \"\", # output - leave this blank for generation!\n",
    "        )\n",
    "    ], return_tensors = \"pt\").to(\"cuda\")\n",
    "\n",
    "    outputs = model.generate(**inputs, max_new_tokens = max_length, use_cache = True)\n",
    "    text= tokenizer.batch_decode(outputs)\n",
    "    return extract_response(text[0])"
   ]
  },
  {
   "cell_type": "code",
   "execution_count": 13,
   "id": "717d015d-0f7b-4945-b453-b6ee85bbc14f",
   "metadata": {
    "tags": []
   },
   "outputs": [
    {
     "name": "stdout",
     "output_type": "stream",
     "text": [
      "Differential Diagnosis is:\n",
      "Colitis, HIV (initial infection), Anemia, Pancreatic neoplasm and the most likely is Colitis\n"
     ]
    }
   ],
   "source": [
    "text = ''' Age:40 , Sex:Male, Symptoms: Diarrhea.\n",
    "Fever.\n",
    "Fatigue.\n",
    "Belly pain and cramping.\n",
    "Blood in the stool.\n",
    "Mouth sores.\n",
    "Reduced appetite and weight loss.\n",
    "Pain or drainage near or around the anus due to inflammation from a tunnel into the skin, called a fistula.'''\n",
    "x = generate_text(model,tokenizer, text, 500)\n",
    "print(x)"
   ]
  },
  {
   "cell_type": "code",
   "execution_count": null,
   "id": "77ed8a50-1d9d-43ef-99ab-087c727b96bc",
   "metadata": {},
   "outputs": [],
   "source": []
  },
  {
   "cell_type": "code",
   "execution_count": null,
   "id": "e6062427-6017-4845-a7bf-33d5928db85d",
   "metadata": {},
   "outputs": [],
   "source": []
  }
 ],
 "metadata": {
  "kernelspec": {
   "display_name": "Python [conda env:.conda-unsloth]",
   "language": "python",
   "name": "conda-env-.conda-unsloth-py"
  },
  "language_info": {
   "codemirror_mode": {
    "name": "ipython",
    "version": 3
   },
   "file_extension": ".py",
   "mimetype": "text/x-python",
   "name": "python",
   "nbconvert_exporter": "python",
   "pygments_lexer": "ipython3",
   "version": "3.11.10"
  }
 },
 "nbformat": 4,
 "nbformat_minor": 5
}
